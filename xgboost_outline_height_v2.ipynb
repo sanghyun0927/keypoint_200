{
 "cells": [
  {
   "cell_type": "code",
   "execution_count": 1,
   "metadata": {
    "collapsed": true
   },
   "outputs": [],
   "source": [
    "import numpy as np\n",
    "import pandas as pd\n",
    "import matplotlib.pyplot as plt\n",
    "\n",
    "import xgboost\n",
    "from sklearn.model_selection import train_test_split"
   ]
  },
  {
   "cell_type": "code",
   "execution_count": 4,
   "outputs": [],
   "source": [
    "df = pd.read_excel('two_hundred_points_v0.3.xlsx', index_col=[0])\n",
    "\n",
    "X_feature = df.iloc[:, 4:]\n",
    "Y_height = pd.DataFrame(np.zeros((len(df), 2)), columns=['left', 'right'])\n",
    "Y_label = df.loc[:, ['left', 'right']]"
   ],
   "metadata": {
    "collapsed": false
   }
  },
  {
   "cell_type": "code",
   "execution_count": 5,
   "outputs": [
    {
     "data": {
      "text/plain": "            x0        x1        x2        x3        x4        x5        x6   \n0     0.689526  0.701995  0.713217  0.725686  0.738155  0.750623  0.761845  \\\n1     0.220698  0.233167  0.244389  0.256858  0.268080  0.280549  0.291771   \n2     0.301746  0.314214  0.326683  0.339152  0.352868  0.365337  0.377805   \n3     0.451372  0.463840  0.476309  0.488778  0.500000  0.512469  0.524938   \n4     0.371571  0.387781  0.403990  0.421446  0.437656  0.453865  0.470075   \n...        ...       ...       ...       ...       ...       ...       ...   \n1243  0.610973  0.623441  0.623441  0.630923  0.643392  0.655860  0.668329   \n1244  0.396509  0.408978  0.421446  0.435162  0.447631  0.460100  0.472569   \n1245  0.139651  0.153367  0.168329  0.182045  0.197007  0.210723  0.225686   \n1246  0.381546  0.395262  0.410224  0.423940  0.437656  0.451372  0.466334   \n1247  0.221945  0.234414  0.246883  0.258105  0.270574  0.283042  0.295511   \n\n            x7        x8        x9  ...      y190      y191      y192   \n0     0.774314  0.786783  0.798005  ...  0.004978  0.003734  0.002489  \\\n1     0.304239  0.315461  0.327930  ...  0.027348  0.021133  0.016160   \n2     0.390274  0.402743  0.415212  ...  0.022399  0.022399  0.022399   \n3     0.537406  0.549875  0.562344  ...  0.039788  0.036058  0.033571   \n4     0.486284  0.503741  0.519950  ...  0.024923  0.012461  0.007477   \n...        ...       ...       ...  ...       ...       ...       ...   \n1243  0.680798  0.693267  0.705736  ...  0.002491  0.003737  0.004982   \n1244  0.485037  0.498753  0.511222  ...  0.046026  0.042295  0.039807   \n1245  0.239401  0.254364  0.268080  ...  0.098422  0.084718  0.069767   \n1246  0.480050  0.493766  0.508728  ...  0.011210  0.008719  0.007474   \n1247  0.307980  0.320449  0.331671  ...  0.018658  0.013683  0.009951   \n\n          y193      y194      y195      y196      y197      y198      y199  \n0     0.002489  0.002489  0.001245  0.001245  0.001245  0.001245  0.001245  \n1     0.012431  0.008702  0.006216  0.003729  0.002486  0.001243  0.001243  \n2     0.022399  0.019910  0.019910  0.019910  0.018666  0.014932  0.002489  \n3     0.029841  0.026111  0.021137  0.018651  0.017407  0.014920  0.002487  \n4     0.004985  0.004985  0.004985  0.004985  0.003738  0.002492  0.002492  \n...        ...       ...       ...       ...       ...       ...       ...  \n1243  0.006228  0.007473  0.007473  0.009964  0.011210  0.008719  0.001246  \n1244  0.036075  0.032343  0.028611  0.026123  0.022391  0.011196  0.001244  \n1245  0.056063  0.042359  0.028654  0.018688  0.011213  0.006229  0.001246  \n1246  0.006228  0.004982  0.004982  0.002491  0.002491  0.002491  0.001246  \n1247  0.006219  0.003732  0.002488  0.002488  0.001244  0.001244  0.001244  \n\n[1248 rows x 400 columns]",
      "text/html": "<div>\n<style scoped>\n    .dataframe tbody tr th:only-of-type {\n        vertical-align: middle;\n    }\n\n    .dataframe tbody tr th {\n        vertical-align: top;\n    }\n\n    .dataframe thead th {\n        text-align: right;\n    }\n</style>\n<table border=\"1\" class=\"dataframe\">\n  <thead>\n    <tr style=\"text-align: right;\">\n      <th></th>\n      <th>x0</th>\n      <th>x1</th>\n      <th>x2</th>\n      <th>x3</th>\n      <th>x4</th>\n      <th>x5</th>\n      <th>x6</th>\n      <th>x7</th>\n      <th>x8</th>\n      <th>x9</th>\n      <th>...</th>\n      <th>y190</th>\n      <th>y191</th>\n      <th>y192</th>\n      <th>y193</th>\n      <th>y194</th>\n      <th>y195</th>\n      <th>y196</th>\n      <th>y197</th>\n      <th>y198</th>\n      <th>y199</th>\n    </tr>\n  </thead>\n  <tbody>\n    <tr>\n      <th>0</th>\n      <td>0.689526</td>\n      <td>0.701995</td>\n      <td>0.713217</td>\n      <td>0.725686</td>\n      <td>0.738155</td>\n      <td>0.750623</td>\n      <td>0.761845</td>\n      <td>0.774314</td>\n      <td>0.786783</td>\n      <td>0.798005</td>\n      <td>...</td>\n      <td>0.004978</td>\n      <td>0.003734</td>\n      <td>0.002489</td>\n      <td>0.002489</td>\n      <td>0.002489</td>\n      <td>0.001245</td>\n      <td>0.001245</td>\n      <td>0.001245</td>\n      <td>0.001245</td>\n      <td>0.001245</td>\n    </tr>\n    <tr>\n      <th>1</th>\n      <td>0.220698</td>\n      <td>0.233167</td>\n      <td>0.244389</td>\n      <td>0.256858</td>\n      <td>0.268080</td>\n      <td>0.280549</td>\n      <td>0.291771</td>\n      <td>0.304239</td>\n      <td>0.315461</td>\n      <td>0.327930</td>\n      <td>...</td>\n      <td>0.027348</td>\n      <td>0.021133</td>\n      <td>0.016160</td>\n      <td>0.012431</td>\n      <td>0.008702</td>\n      <td>0.006216</td>\n      <td>0.003729</td>\n      <td>0.002486</td>\n      <td>0.001243</td>\n      <td>0.001243</td>\n    </tr>\n    <tr>\n      <th>2</th>\n      <td>0.301746</td>\n      <td>0.314214</td>\n      <td>0.326683</td>\n      <td>0.339152</td>\n      <td>0.352868</td>\n      <td>0.365337</td>\n      <td>0.377805</td>\n      <td>0.390274</td>\n      <td>0.402743</td>\n      <td>0.415212</td>\n      <td>...</td>\n      <td>0.022399</td>\n      <td>0.022399</td>\n      <td>0.022399</td>\n      <td>0.022399</td>\n      <td>0.019910</td>\n      <td>0.019910</td>\n      <td>0.019910</td>\n      <td>0.018666</td>\n      <td>0.014932</td>\n      <td>0.002489</td>\n    </tr>\n    <tr>\n      <th>3</th>\n      <td>0.451372</td>\n      <td>0.463840</td>\n      <td>0.476309</td>\n      <td>0.488778</td>\n      <td>0.500000</td>\n      <td>0.512469</td>\n      <td>0.524938</td>\n      <td>0.537406</td>\n      <td>0.549875</td>\n      <td>0.562344</td>\n      <td>...</td>\n      <td>0.039788</td>\n      <td>0.036058</td>\n      <td>0.033571</td>\n      <td>0.029841</td>\n      <td>0.026111</td>\n      <td>0.021137</td>\n      <td>0.018651</td>\n      <td>0.017407</td>\n      <td>0.014920</td>\n      <td>0.002487</td>\n    </tr>\n    <tr>\n      <th>4</th>\n      <td>0.371571</td>\n      <td>0.387781</td>\n      <td>0.403990</td>\n      <td>0.421446</td>\n      <td>0.437656</td>\n      <td>0.453865</td>\n      <td>0.470075</td>\n      <td>0.486284</td>\n      <td>0.503741</td>\n      <td>0.519950</td>\n      <td>...</td>\n      <td>0.024923</td>\n      <td>0.012461</td>\n      <td>0.007477</td>\n      <td>0.004985</td>\n      <td>0.004985</td>\n      <td>0.004985</td>\n      <td>0.004985</td>\n      <td>0.003738</td>\n      <td>0.002492</td>\n      <td>0.002492</td>\n    </tr>\n    <tr>\n      <th>...</th>\n      <td>...</td>\n      <td>...</td>\n      <td>...</td>\n      <td>...</td>\n      <td>...</td>\n      <td>...</td>\n      <td>...</td>\n      <td>...</td>\n      <td>...</td>\n      <td>...</td>\n      <td>...</td>\n      <td>...</td>\n      <td>...</td>\n      <td>...</td>\n      <td>...</td>\n      <td>...</td>\n      <td>...</td>\n      <td>...</td>\n      <td>...</td>\n      <td>...</td>\n      <td>...</td>\n    </tr>\n    <tr>\n      <th>1243</th>\n      <td>0.610973</td>\n      <td>0.623441</td>\n      <td>0.623441</td>\n      <td>0.630923</td>\n      <td>0.643392</td>\n      <td>0.655860</td>\n      <td>0.668329</td>\n      <td>0.680798</td>\n      <td>0.693267</td>\n      <td>0.705736</td>\n      <td>...</td>\n      <td>0.002491</td>\n      <td>0.003737</td>\n      <td>0.004982</td>\n      <td>0.006228</td>\n      <td>0.007473</td>\n      <td>0.007473</td>\n      <td>0.009964</td>\n      <td>0.011210</td>\n      <td>0.008719</td>\n      <td>0.001246</td>\n    </tr>\n    <tr>\n      <th>1244</th>\n      <td>0.396509</td>\n      <td>0.408978</td>\n      <td>0.421446</td>\n      <td>0.435162</td>\n      <td>0.447631</td>\n      <td>0.460100</td>\n      <td>0.472569</td>\n      <td>0.485037</td>\n      <td>0.498753</td>\n      <td>0.511222</td>\n      <td>...</td>\n      <td>0.046026</td>\n      <td>0.042295</td>\n      <td>0.039807</td>\n      <td>0.036075</td>\n      <td>0.032343</td>\n      <td>0.028611</td>\n      <td>0.026123</td>\n      <td>0.022391</td>\n      <td>0.011196</td>\n      <td>0.001244</td>\n    </tr>\n    <tr>\n      <th>1245</th>\n      <td>0.139651</td>\n      <td>0.153367</td>\n      <td>0.168329</td>\n      <td>0.182045</td>\n      <td>0.197007</td>\n      <td>0.210723</td>\n      <td>0.225686</td>\n      <td>0.239401</td>\n      <td>0.254364</td>\n      <td>0.268080</td>\n      <td>...</td>\n      <td>0.098422</td>\n      <td>0.084718</td>\n      <td>0.069767</td>\n      <td>0.056063</td>\n      <td>0.042359</td>\n      <td>0.028654</td>\n      <td>0.018688</td>\n      <td>0.011213</td>\n      <td>0.006229</td>\n      <td>0.001246</td>\n    </tr>\n    <tr>\n      <th>1246</th>\n      <td>0.381546</td>\n      <td>0.395262</td>\n      <td>0.410224</td>\n      <td>0.423940</td>\n      <td>0.437656</td>\n      <td>0.451372</td>\n      <td>0.466334</td>\n      <td>0.480050</td>\n      <td>0.493766</td>\n      <td>0.508728</td>\n      <td>...</td>\n      <td>0.011210</td>\n      <td>0.008719</td>\n      <td>0.007474</td>\n      <td>0.006228</td>\n      <td>0.004982</td>\n      <td>0.004982</td>\n      <td>0.002491</td>\n      <td>0.002491</td>\n      <td>0.002491</td>\n      <td>0.001246</td>\n    </tr>\n    <tr>\n      <th>1247</th>\n      <td>0.221945</td>\n      <td>0.234414</td>\n      <td>0.246883</td>\n      <td>0.258105</td>\n      <td>0.270574</td>\n      <td>0.283042</td>\n      <td>0.295511</td>\n      <td>0.307980</td>\n      <td>0.320449</td>\n      <td>0.331671</td>\n      <td>...</td>\n      <td>0.018658</td>\n      <td>0.013683</td>\n      <td>0.009951</td>\n      <td>0.006219</td>\n      <td>0.003732</td>\n      <td>0.002488</td>\n      <td>0.002488</td>\n      <td>0.001244</td>\n      <td>0.001244</td>\n      <td>0.001244</td>\n    </tr>\n  </tbody>\n</table>\n<p>1248 rows × 400 columns</p>\n</div>"
     },
     "execution_count": 5,
     "metadata": {},
     "output_type": "execute_result"
    }
   ],
   "source": [
    "X_feature"
   ],
   "metadata": {
    "collapsed": false
   }
  },
  {
   "cell_type": "code",
   "execution_count": 6,
   "outputs": [
    {
     "data": {
      "text/plain": "          left     right\n0     0.396999  0.273792\n1     0.229976  0.384122\n2     0.419354  0.333492\n3     0.360577  0.272298\n4     0.686621  0.687867\n...        ...       ...\n1243  0.308888  0.349990\n1244  0.376920  0.306014\n1245  0.313953  0.645348\n1246  0.335069  0.524401\n1247  0.250023  0.467705\n\n[1248 rows x 2 columns]",
      "text/html": "<div>\n<style scoped>\n    .dataframe tbody tr th:only-of-type {\n        vertical-align: middle;\n    }\n\n    .dataframe tbody tr th {\n        vertical-align: top;\n    }\n\n    .dataframe thead th {\n        text-align: right;\n    }\n</style>\n<table border=\"1\" class=\"dataframe\">\n  <thead>\n    <tr style=\"text-align: right;\">\n      <th></th>\n      <th>left</th>\n      <th>right</th>\n    </tr>\n  </thead>\n  <tbody>\n    <tr>\n      <th>0</th>\n      <td>0.396999</td>\n      <td>0.273792</td>\n    </tr>\n    <tr>\n      <th>1</th>\n      <td>0.229976</td>\n      <td>0.384122</td>\n    </tr>\n    <tr>\n      <th>2</th>\n      <td>0.419354</td>\n      <td>0.333492</td>\n    </tr>\n    <tr>\n      <th>3</th>\n      <td>0.360577</td>\n      <td>0.272298</td>\n    </tr>\n    <tr>\n      <th>4</th>\n      <td>0.686621</td>\n      <td>0.687867</td>\n    </tr>\n    <tr>\n      <th>...</th>\n      <td>...</td>\n      <td>...</td>\n    </tr>\n    <tr>\n      <th>1243</th>\n      <td>0.308888</td>\n      <td>0.349990</td>\n    </tr>\n    <tr>\n      <th>1244</th>\n      <td>0.376920</td>\n      <td>0.306014</td>\n    </tr>\n    <tr>\n      <th>1245</th>\n      <td>0.313953</td>\n      <td>0.645348</td>\n    </tr>\n    <tr>\n      <th>1246</th>\n      <td>0.335069</td>\n      <td>0.524401</td>\n    </tr>\n    <tr>\n      <th>1247</th>\n      <td>0.250023</td>\n      <td>0.467705</td>\n    </tr>\n  </tbody>\n</table>\n<p>1248 rows × 2 columns</p>\n</div>"
     },
     "execution_count": 6,
     "metadata": {},
     "output_type": "execute_result"
    }
   ],
   "source": [
    "for idx, val in df.iterrows():\n",
    "    y_left = val['y' + str(val['left'])]\n",
    "    y_right = val['y' + str(val['right'])]\n",
    "    Y_height.loc[idx] = {'left': y_left, 'right': y_right}\n",
    "Y_height"
   ],
   "metadata": {
    "collapsed": false
   }
  },
  {
   "cell_type": "code",
   "execution_count": 22,
   "outputs": [],
   "source": [
    "# Y_label.to_excel('test_true.xlsx')"
   ],
   "metadata": {
    "collapsed": false
   }
  },
  {
   "cell_type": "code",
   "execution_count": 7,
   "outputs": [],
   "source": [
    "test_idx = pd.read_csv('testset_index.csv', index_col=0)[\"test index\"].values.tolist()\n",
    "\n",
    "x_train = X_feature[~X_feature.index.isin(test_idx)]\n",
    "x_test  = X_feature[X_feature.index.isin(test_idx)]\n",
    "\n",
    "y_train = Y_label[~Y_label.index.isin(test_idx)]\n",
    "y_test  = Y_label[Y_label.index.isin(test_idx)]\n",
    "\n",
    "height_train = Y_height[~Y_label.index.isin(test_idx)]\n",
    "height_test  = Y_height[Y_label.index.isin(test_idx)]"
   ],
   "metadata": {
    "collapsed": false
   }
  },
  {
   "cell_type": "code",
   "execution_count": 25,
   "outputs": [
    {
     "data": {
      "text/plain": "          left     right\n28    0.255674  0.299114\n30    0.464280  0.331095\n42    0.288551  0.383076\n53    0.278049  0.331425\n99    0.304371  0.334187\n...        ...       ...\n975   0.672062  0.677049\n982   0.379504  0.286183\n988   0.642958  0.665387\n1031  0.373335  0.261334\n1034  0.626236  0.617521\n\n[100 rows x 2 columns]",
      "text/html": "<div>\n<style scoped>\n    .dataframe tbody tr th:only-of-type {\n        vertical-align: middle;\n    }\n\n    .dataframe tbody tr th {\n        vertical-align: top;\n    }\n\n    .dataframe thead th {\n        text-align: right;\n    }\n</style>\n<table border=\"1\" class=\"dataframe\">\n  <thead>\n    <tr style=\"text-align: right;\">\n      <th></th>\n      <th>left</th>\n      <th>right</th>\n    </tr>\n  </thead>\n  <tbody>\n    <tr>\n      <th>28</th>\n      <td>0.255674</td>\n      <td>0.299114</td>\n    </tr>\n    <tr>\n      <th>30</th>\n      <td>0.464280</td>\n      <td>0.331095</td>\n    </tr>\n    <tr>\n      <th>42</th>\n      <td>0.288551</td>\n      <td>0.383076</td>\n    </tr>\n    <tr>\n      <th>53</th>\n      <td>0.278049</td>\n      <td>0.331425</td>\n    </tr>\n    <tr>\n      <th>99</th>\n      <td>0.304371</td>\n      <td>0.334187</td>\n    </tr>\n    <tr>\n      <th>...</th>\n      <td>...</td>\n      <td>...</td>\n    </tr>\n    <tr>\n      <th>975</th>\n      <td>0.672062</td>\n      <td>0.677049</td>\n    </tr>\n    <tr>\n      <th>982</th>\n      <td>0.379504</td>\n      <td>0.286183</td>\n    </tr>\n    <tr>\n      <th>988</th>\n      <td>0.642958</td>\n      <td>0.665387</td>\n    </tr>\n    <tr>\n      <th>1031</th>\n      <td>0.373335</td>\n      <td>0.261334</td>\n    </tr>\n    <tr>\n      <th>1034</th>\n      <td>0.626236</td>\n      <td>0.617521</td>\n    </tr>\n  </tbody>\n</table>\n<p>100 rows × 2 columns</p>\n</div>"
     },
     "execution_count": 25,
     "metadata": {},
     "output_type": "execute_result"
    }
   ],
   "source": [
    "height_test"
   ],
   "metadata": {
    "collapsed": false
   }
  },
  {
   "cell_type": "code",
   "execution_count": 8,
   "outputs": [
    {
     "data": {
      "text/plain": "XGBRegressor(base_score=None, booster=None, callbacks=None,\n             colsample_bylevel=None, colsample_bynode=None,\n             colsample_bytree=None, early_stopping_rounds=None,\n             enable_categorical=False, eval_metric=None, feature_types=None,\n             gamma=None, gpu_id=None, grow_policy=None, importance_type=None,\n             interaction_constraints=None, learning_rate=None, max_bin=None,\n             max_cat_threshold=None, max_cat_to_onehot=None,\n             max_delta_step=None, max_depth=None, max_leaves=None,\n             min_child_weight=None, missing=nan, monotone_constraints=None,\n             n_estimators=100, n_jobs=None, num_parallel_tree=None,\n             predictor=None, random_state=None, ...)",
      "text/html": "<style>#sk-container-id-1 {color: black;background-color: white;}#sk-container-id-1 pre{padding: 0;}#sk-container-id-1 div.sk-toggleable {background-color: white;}#sk-container-id-1 label.sk-toggleable__label {cursor: pointer;display: block;width: 100%;margin-bottom: 0;padding: 0.3em;box-sizing: border-box;text-align: center;}#sk-container-id-1 label.sk-toggleable__label-arrow:before {content: \"▸\";float: left;margin-right: 0.25em;color: #696969;}#sk-container-id-1 label.sk-toggleable__label-arrow:hover:before {color: black;}#sk-container-id-1 div.sk-estimator:hover label.sk-toggleable__label-arrow:before {color: black;}#sk-container-id-1 div.sk-toggleable__content {max-height: 0;max-width: 0;overflow: hidden;text-align: left;background-color: #f0f8ff;}#sk-container-id-1 div.sk-toggleable__content pre {margin: 0.2em;color: black;border-radius: 0.25em;background-color: #f0f8ff;}#sk-container-id-1 input.sk-toggleable__control:checked~div.sk-toggleable__content {max-height: 200px;max-width: 100%;overflow: auto;}#sk-container-id-1 input.sk-toggleable__control:checked~label.sk-toggleable__label-arrow:before {content: \"▾\";}#sk-container-id-1 div.sk-estimator input.sk-toggleable__control:checked~label.sk-toggleable__label {background-color: #d4ebff;}#sk-container-id-1 div.sk-label input.sk-toggleable__control:checked~label.sk-toggleable__label {background-color: #d4ebff;}#sk-container-id-1 input.sk-hidden--visually {border: 0;clip: rect(1px 1px 1px 1px);clip: rect(1px, 1px, 1px, 1px);height: 1px;margin: -1px;overflow: hidden;padding: 0;position: absolute;width: 1px;}#sk-container-id-1 div.sk-estimator {font-family: monospace;background-color: #f0f8ff;border: 1px dotted black;border-radius: 0.25em;box-sizing: border-box;margin-bottom: 0.5em;}#sk-container-id-1 div.sk-estimator:hover {background-color: #d4ebff;}#sk-container-id-1 div.sk-parallel-item::after {content: \"\";width: 100%;border-bottom: 1px solid gray;flex-grow: 1;}#sk-container-id-1 div.sk-label:hover label.sk-toggleable__label {background-color: #d4ebff;}#sk-container-id-1 div.sk-serial::before {content: \"\";position: absolute;border-left: 1px solid gray;box-sizing: border-box;top: 0;bottom: 0;left: 50%;z-index: 0;}#sk-container-id-1 div.sk-serial {display: flex;flex-direction: column;align-items: center;background-color: white;padding-right: 0.2em;padding-left: 0.2em;position: relative;}#sk-container-id-1 div.sk-item {position: relative;z-index: 1;}#sk-container-id-1 div.sk-parallel {display: flex;align-items: stretch;justify-content: center;background-color: white;position: relative;}#sk-container-id-1 div.sk-item::before, #sk-container-id-1 div.sk-parallel-item::before {content: \"\";position: absolute;border-left: 1px solid gray;box-sizing: border-box;top: 0;bottom: 0;left: 50%;z-index: -1;}#sk-container-id-1 div.sk-parallel-item {display: flex;flex-direction: column;z-index: 1;position: relative;background-color: white;}#sk-container-id-1 div.sk-parallel-item:first-child::after {align-self: flex-end;width: 50%;}#sk-container-id-1 div.sk-parallel-item:last-child::after {align-self: flex-start;width: 50%;}#sk-container-id-1 div.sk-parallel-item:only-child::after {width: 0;}#sk-container-id-1 div.sk-dashed-wrapped {border: 1px dashed gray;margin: 0 0.4em 0.5em 0.4em;box-sizing: border-box;padding-bottom: 0.4em;background-color: white;}#sk-container-id-1 div.sk-label label {font-family: monospace;font-weight: bold;display: inline-block;line-height: 1.2em;}#sk-container-id-1 div.sk-label-container {text-align: center;}#sk-container-id-1 div.sk-container {/* jupyter's `normalize.less` sets `[hidden] { display: none; }` but bootstrap.min.css set `[hidden] { display: none !important; }` so we also need the `!important` here to be able to override the default hidden behavior on the sphinx rendered scikit-learn.org. See: https://github.com/scikit-learn/scikit-learn/issues/21755 */display: inline-block !important;position: relative;}#sk-container-id-1 div.sk-text-repr-fallback {display: none;}</style><div id=\"sk-container-id-1\" class=\"sk-top-container\"><div class=\"sk-text-repr-fallback\"><pre>XGBRegressor(base_score=None, booster=None, callbacks=None,\n             colsample_bylevel=None, colsample_bynode=None,\n             colsample_bytree=None, early_stopping_rounds=None,\n             enable_categorical=False, eval_metric=None, feature_types=None,\n             gamma=None, gpu_id=None, grow_policy=None, importance_type=None,\n             interaction_constraints=None, learning_rate=None, max_bin=None,\n             max_cat_threshold=None, max_cat_to_onehot=None,\n             max_delta_step=None, max_depth=None, max_leaves=None,\n             min_child_weight=None, missing=nan, monotone_constraints=None,\n             n_estimators=100, n_jobs=None, num_parallel_tree=None,\n             predictor=None, random_state=None, ...)</pre><b>In a Jupyter environment, please rerun this cell to show the HTML representation or trust the notebook. <br />On GitHub, the HTML representation is unable to render, please try loading this page with nbviewer.org.</b></div><div class=\"sk-container\" hidden><div class=\"sk-item\"><div class=\"sk-estimator sk-toggleable\"><input class=\"sk-toggleable__control sk-hidden--visually\" id=\"sk-estimator-id-1\" type=\"checkbox\" checked><label for=\"sk-estimator-id-1\" class=\"sk-toggleable__label sk-toggleable__label-arrow\">XGBRegressor</label><div class=\"sk-toggleable__content\"><pre>XGBRegressor(base_score=None, booster=None, callbacks=None,\n             colsample_bylevel=None, colsample_bynode=None,\n             colsample_bytree=None, early_stopping_rounds=None,\n             enable_categorical=False, eval_metric=None, feature_types=None,\n             gamma=None, gpu_id=None, grow_policy=None, importance_type=None,\n             interaction_constraints=None, learning_rate=None, max_bin=None,\n             max_cat_threshold=None, max_cat_to_onehot=None,\n             max_delta_step=None, max_depth=None, max_leaves=None,\n             min_child_weight=None, missing=nan, monotone_constraints=None,\n             n_estimators=100, n_jobs=None, num_parallel_tree=None,\n             predictor=None, random_state=None, ...)</pre></div></div></div></div></div>"
     },
     "execution_count": 8,
     "metadata": {},
     "output_type": "execute_result"
    }
   ],
   "source": [
    "model_L = xgboost.XGBRegressor()\n",
    "model_L.fit(x_train, y_train['left'])"
   ],
   "metadata": {
    "collapsed": false
   }
  },
  {
   "cell_type": "code",
   "execution_count": 32,
   "outputs": [],
   "source": [
    "left_pred = model_L.predict(x_test)\n",
    "height_left_pred = height_test['left'].copy()\n",
    "for idx, val in enumerate(left_pred):\n",
    "    height_left_pred.iloc[idx] = x_test.iloc[idx]['y' + str(int(round(val)))]"
   ],
   "metadata": {
    "collapsed": false
   }
  },
  {
   "cell_type": "code",
   "execution_count": 33,
   "outputs": [
    {
     "data": {
      "text/plain": "28      0.239539\n30      0.453078\n42      0.337057\n53      0.290462\n99      0.295675\n          ...   \n975     0.657099\n982     0.373282\n988     0.687816\n1031    0.373335\n1034    0.656116\nName: left, Length: 100, dtype: float64"
     },
     "execution_count": 33,
     "metadata": {},
     "output_type": "execute_result"
    }
   ],
   "source": [
    "height_left_pred"
   ],
   "metadata": {
    "collapsed": false
   }
  },
  {
   "cell_type": "code",
   "execution_count": 46,
   "outputs": [
    {
     "name": "stdout",
     "output_type": "stream",
     "text": [
      "[ 0.         12.23687424 14.0819376  16.82526525 17.36710506 20.28633103\n",
      " 21.07843137]\n"
     ]
    },
    {
     "data": {
      "text/plain": "count    100.000000\nmean       3.488148\nstd        4.342445\nmin        0.000000\n25%        0.000000\n50%        2.396911\n75%        4.480461\nmax       21.078431\nName: left, dtype: float64"
     },
     "execution_count": 46,
     "metadata": {},
     "output_type": "execute_result"
    }
   ],
   "source": [
    "left_error = np.abs(height_test['left'] - height_left_pred) / height_test['left'] * 100\n",
    "print(np.quantile(left_error, [0, 0.95, 0.96, 0.97, 0.98, 0.99, 1]))\n",
    "left_error.describe()"
   ],
   "metadata": {
    "collapsed": false
   }
  },
  {
   "cell_type": "code",
   "execution_count": 36,
   "outputs": [
    {
     "data": {
      "text/plain": "XGBRegressor(base_score=None, booster=None, callbacks=None,\n             colsample_bylevel=None, colsample_bynode=None,\n             colsample_bytree=None, early_stopping_rounds=None,\n             enable_categorical=False, eval_metric=None, feature_types=None,\n             gamma=None, gpu_id=None, grow_policy=None, importance_type=None,\n             interaction_constraints=None, learning_rate=None, max_bin=None,\n             max_cat_threshold=None, max_cat_to_onehot=None,\n             max_delta_step=None, max_depth=None, max_leaves=None,\n             min_child_weight=None, missing=nan, monotone_constraints=None,\n             n_estimators=100, n_jobs=None, num_parallel_tree=None,\n             predictor=None, random_state=None, ...)",
      "text/html": "<style>#sk-container-id-2 {color: black;background-color: white;}#sk-container-id-2 pre{padding: 0;}#sk-container-id-2 div.sk-toggleable {background-color: white;}#sk-container-id-2 label.sk-toggleable__label {cursor: pointer;display: block;width: 100%;margin-bottom: 0;padding: 0.3em;box-sizing: border-box;text-align: center;}#sk-container-id-2 label.sk-toggleable__label-arrow:before {content: \"▸\";float: left;margin-right: 0.25em;color: #696969;}#sk-container-id-2 label.sk-toggleable__label-arrow:hover:before {color: black;}#sk-container-id-2 div.sk-estimator:hover label.sk-toggleable__label-arrow:before {color: black;}#sk-container-id-2 div.sk-toggleable__content {max-height: 0;max-width: 0;overflow: hidden;text-align: left;background-color: #f0f8ff;}#sk-container-id-2 div.sk-toggleable__content pre {margin: 0.2em;color: black;border-radius: 0.25em;background-color: #f0f8ff;}#sk-container-id-2 input.sk-toggleable__control:checked~div.sk-toggleable__content {max-height: 200px;max-width: 100%;overflow: auto;}#sk-container-id-2 input.sk-toggleable__control:checked~label.sk-toggleable__label-arrow:before {content: \"▾\";}#sk-container-id-2 div.sk-estimator input.sk-toggleable__control:checked~label.sk-toggleable__label {background-color: #d4ebff;}#sk-container-id-2 div.sk-label input.sk-toggleable__control:checked~label.sk-toggleable__label {background-color: #d4ebff;}#sk-container-id-2 input.sk-hidden--visually {border: 0;clip: rect(1px 1px 1px 1px);clip: rect(1px, 1px, 1px, 1px);height: 1px;margin: -1px;overflow: hidden;padding: 0;position: absolute;width: 1px;}#sk-container-id-2 div.sk-estimator {font-family: monospace;background-color: #f0f8ff;border: 1px dotted black;border-radius: 0.25em;box-sizing: border-box;margin-bottom: 0.5em;}#sk-container-id-2 div.sk-estimator:hover {background-color: #d4ebff;}#sk-container-id-2 div.sk-parallel-item::after {content: \"\";width: 100%;border-bottom: 1px solid gray;flex-grow: 1;}#sk-container-id-2 div.sk-label:hover label.sk-toggleable__label {background-color: #d4ebff;}#sk-container-id-2 div.sk-serial::before {content: \"\";position: absolute;border-left: 1px solid gray;box-sizing: border-box;top: 0;bottom: 0;left: 50%;z-index: 0;}#sk-container-id-2 div.sk-serial {display: flex;flex-direction: column;align-items: center;background-color: white;padding-right: 0.2em;padding-left: 0.2em;position: relative;}#sk-container-id-2 div.sk-item {position: relative;z-index: 1;}#sk-container-id-2 div.sk-parallel {display: flex;align-items: stretch;justify-content: center;background-color: white;position: relative;}#sk-container-id-2 div.sk-item::before, #sk-container-id-2 div.sk-parallel-item::before {content: \"\";position: absolute;border-left: 1px solid gray;box-sizing: border-box;top: 0;bottom: 0;left: 50%;z-index: -1;}#sk-container-id-2 div.sk-parallel-item {display: flex;flex-direction: column;z-index: 1;position: relative;background-color: white;}#sk-container-id-2 div.sk-parallel-item:first-child::after {align-self: flex-end;width: 50%;}#sk-container-id-2 div.sk-parallel-item:last-child::after {align-self: flex-start;width: 50%;}#sk-container-id-2 div.sk-parallel-item:only-child::after {width: 0;}#sk-container-id-2 div.sk-dashed-wrapped {border: 1px dashed gray;margin: 0 0.4em 0.5em 0.4em;box-sizing: border-box;padding-bottom: 0.4em;background-color: white;}#sk-container-id-2 div.sk-label label {font-family: monospace;font-weight: bold;display: inline-block;line-height: 1.2em;}#sk-container-id-2 div.sk-label-container {text-align: center;}#sk-container-id-2 div.sk-container {/* jupyter's `normalize.less` sets `[hidden] { display: none; }` but bootstrap.min.css set `[hidden] { display: none !important; }` so we also need the `!important` here to be able to override the default hidden behavior on the sphinx rendered scikit-learn.org. See: https://github.com/scikit-learn/scikit-learn/issues/21755 */display: inline-block !important;position: relative;}#sk-container-id-2 div.sk-text-repr-fallback {display: none;}</style><div id=\"sk-container-id-2\" class=\"sk-top-container\"><div class=\"sk-text-repr-fallback\"><pre>XGBRegressor(base_score=None, booster=None, callbacks=None,\n             colsample_bylevel=None, colsample_bynode=None,\n             colsample_bytree=None, early_stopping_rounds=None,\n             enable_categorical=False, eval_metric=None, feature_types=None,\n             gamma=None, gpu_id=None, grow_policy=None, importance_type=None,\n             interaction_constraints=None, learning_rate=None, max_bin=None,\n             max_cat_threshold=None, max_cat_to_onehot=None,\n             max_delta_step=None, max_depth=None, max_leaves=None,\n             min_child_weight=None, missing=nan, monotone_constraints=None,\n             n_estimators=100, n_jobs=None, num_parallel_tree=None,\n             predictor=None, random_state=None, ...)</pre><b>In a Jupyter environment, please rerun this cell to show the HTML representation or trust the notebook. <br />On GitHub, the HTML representation is unable to render, please try loading this page with nbviewer.org.</b></div><div class=\"sk-container\" hidden><div class=\"sk-item\"><div class=\"sk-estimator sk-toggleable\"><input class=\"sk-toggleable__control sk-hidden--visually\" id=\"sk-estimator-id-2\" type=\"checkbox\" checked><label for=\"sk-estimator-id-2\" class=\"sk-toggleable__label sk-toggleable__label-arrow\">XGBRegressor</label><div class=\"sk-toggleable__content\"><pre>XGBRegressor(base_score=None, booster=None, callbacks=None,\n             colsample_bylevel=None, colsample_bynode=None,\n             colsample_bytree=None, early_stopping_rounds=None,\n             enable_categorical=False, eval_metric=None, feature_types=None,\n             gamma=None, gpu_id=None, grow_policy=None, importance_type=None,\n             interaction_constraints=None, learning_rate=None, max_bin=None,\n             max_cat_threshold=None, max_cat_to_onehot=None,\n             max_delta_step=None, max_depth=None, max_leaves=None,\n             min_child_weight=None, missing=nan, monotone_constraints=None,\n             n_estimators=100, n_jobs=None, num_parallel_tree=None,\n             predictor=None, random_state=None, ...)</pre></div></div></div></div></div>"
     },
     "execution_count": 36,
     "metadata": {},
     "output_type": "execute_result"
    }
   ],
   "source": [
    "model_R = xgboost.XGBRegressor()\n",
    "model_R.fit(x_train, y_train['right'])"
   ],
   "metadata": {
    "collapsed": false
   }
  },
  {
   "cell_type": "code",
   "execution_count": 37,
   "outputs": [],
   "source": [
    "right_pred = model_R.predict(x_test)"
   ],
   "metadata": {
    "collapsed": false
   }
  },
  {
   "cell_type": "code",
   "execution_count": 41,
   "outputs": [],
   "source": [
    "right_pred = model_R.predict(x_test)\n",
    "height_right_pred = height_test['right'].copy()\n",
    "for idx, val in enumerate(right_pred):\n",
    "    height_right_pred.iloc[idx] = x_test.iloc[idx]['y' + str(int(round(val)))]"
   ],
   "metadata": {
    "collapsed": false
   }
  },
  {
   "cell_type": "code",
   "execution_count": 47,
   "outputs": [
    {
     "name": "stdout",
     "output_type": "stream",
     "text": [
      "[ 0.         15.78149746 16.00747175 16.47651718 16.91632969 21.71281979\n",
      " 34.06113537]\n"
     ]
    },
    {
     "data": {
      "text/plain": "count    100.000000\nmean       4.454854\nstd        5.237180\nmin        0.000000\n25%        0.874398\n50%        3.386288\n75%        5.490612\nmax       34.061135\nName: right, dtype: float64"
     },
     "execution_count": 47,
     "metadata": {},
     "output_type": "execute_result"
    }
   ],
   "source": [
    "right_error = np.abs(height_test['right'] - height_right_pred) / height_test['right'] * 100\n",
    "print(np.quantile(right_error, [0, 0.95, 0.96, 0.97, 0.98, 0.99, 1]))\n",
    "right_error.describe()"
   ],
   "metadata": {
    "collapsed": false
   }
  },
  {
   "cell_type": "code",
   "execution_count": 18,
   "outputs": [
    {
     "data": {
      "text/plain": "XGBRegressor(base_score=None, booster=None, callbacks=None,\n             colsample_bylevel=None, colsample_bynode=None,\n             colsample_bytree=None, early_stopping_rounds=None,\n             enable_categorical=False, eval_metric=None, feature_types=None,\n             gamma=None, gpu_id=None, grow_policy=None, importance_type=None,\n             interaction_constraints=None, learning_rate=None, max_bin=None,\n             max_cat_threshold=None, max_cat_to_onehot=None,\n             max_delta_step=None, max_depth=None, max_leaves=None,\n             min_child_weight=None, missing=nan, monotone_constraints=None,\n             n_estimators=100, n_jobs=None, num_parallel_tree=None,\n             predictor=None, random_state=None, ...)",
      "text/html": "<style>#sk-container-id-4 {color: black;background-color: white;}#sk-container-id-4 pre{padding: 0;}#sk-container-id-4 div.sk-toggleable {background-color: white;}#sk-container-id-4 label.sk-toggleable__label {cursor: pointer;display: block;width: 100%;margin-bottom: 0;padding: 0.3em;box-sizing: border-box;text-align: center;}#sk-container-id-4 label.sk-toggleable__label-arrow:before {content: \"▸\";float: left;margin-right: 0.25em;color: #696969;}#sk-container-id-4 label.sk-toggleable__label-arrow:hover:before {color: black;}#sk-container-id-4 div.sk-estimator:hover label.sk-toggleable__label-arrow:before {color: black;}#sk-container-id-4 div.sk-toggleable__content {max-height: 0;max-width: 0;overflow: hidden;text-align: left;background-color: #f0f8ff;}#sk-container-id-4 div.sk-toggleable__content pre {margin: 0.2em;color: black;border-radius: 0.25em;background-color: #f0f8ff;}#sk-container-id-4 input.sk-toggleable__control:checked~div.sk-toggleable__content {max-height: 200px;max-width: 100%;overflow: auto;}#sk-container-id-4 input.sk-toggleable__control:checked~label.sk-toggleable__label-arrow:before {content: \"▾\";}#sk-container-id-4 div.sk-estimator input.sk-toggleable__control:checked~label.sk-toggleable__label {background-color: #d4ebff;}#sk-container-id-4 div.sk-label input.sk-toggleable__control:checked~label.sk-toggleable__label {background-color: #d4ebff;}#sk-container-id-4 input.sk-hidden--visually {border: 0;clip: rect(1px 1px 1px 1px);clip: rect(1px, 1px, 1px, 1px);height: 1px;margin: -1px;overflow: hidden;padding: 0;position: absolute;width: 1px;}#sk-container-id-4 div.sk-estimator {font-family: monospace;background-color: #f0f8ff;border: 1px dotted black;border-radius: 0.25em;box-sizing: border-box;margin-bottom: 0.5em;}#sk-container-id-4 div.sk-estimator:hover {background-color: #d4ebff;}#sk-container-id-4 div.sk-parallel-item::after {content: \"\";width: 100%;border-bottom: 1px solid gray;flex-grow: 1;}#sk-container-id-4 div.sk-label:hover label.sk-toggleable__label {background-color: #d4ebff;}#sk-container-id-4 div.sk-serial::before {content: \"\";position: absolute;border-left: 1px solid gray;box-sizing: border-box;top: 0;bottom: 0;left: 50%;z-index: 0;}#sk-container-id-4 div.sk-serial {display: flex;flex-direction: column;align-items: center;background-color: white;padding-right: 0.2em;padding-left: 0.2em;position: relative;}#sk-container-id-4 div.sk-item {position: relative;z-index: 1;}#sk-container-id-4 div.sk-parallel {display: flex;align-items: stretch;justify-content: center;background-color: white;position: relative;}#sk-container-id-4 div.sk-item::before, #sk-container-id-4 div.sk-parallel-item::before {content: \"\";position: absolute;border-left: 1px solid gray;box-sizing: border-box;top: 0;bottom: 0;left: 50%;z-index: -1;}#sk-container-id-4 div.sk-parallel-item {display: flex;flex-direction: column;z-index: 1;position: relative;background-color: white;}#sk-container-id-4 div.sk-parallel-item:first-child::after {align-self: flex-end;width: 50%;}#sk-container-id-4 div.sk-parallel-item:last-child::after {align-self: flex-start;width: 50%;}#sk-container-id-4 div.sk-parallel-item:only-child::after {width: 0;}#sk-container-id-4 div.sk-dashed-wrapped {border: 1px dashed gray;margin: 0 0.4em 0.5em 0.4em;box-sizing: border-box;padding-bottom: 0.4em;background-color: white;}#sk-container-id-4 div.sk-label label {font-family: monospace;font-weight: bold;display: inline-block;line-height: 1.2em;}#sk-container-id-4 div.sk-label-container {text-align: center;}#sk-container-id-4 div.sk-container {/* jupyter's `normalize.less` sets `[hidden] { display: none; }` but bootstrap.min.css set `[hidden] { display: none !important; }` so we also need the `!important` here to be able to override the default hidden behavior on the sphinx rendered scikit-learn.org. See: https://github.com/scikit-learn/scikit-learn/issues/21755 */display: inline-block !important;position: relative;}#sk-container-id-4 div.sk-text-repr-fallback {display: none;}</style><div id=\"sk-container-id-4\" class=\"sk-top-container\"><div class=\"sk-text-repr-fallback\"><pre>XGBRegressor(base_score=None, booster=None, callbacks=None,\n             colsample_bylevel=None, colsample_bynode=None,\n             colsample_bytree=None, early_stopping_rounds=None,\n             enable_categorical=False, eval_metric=None, feature_types=None,\n             gamma=None, gpu_id=None, grow_policy=None, importance_type=None,\n             interaction_constraints=None, learning_rate=None, max_bin=None,\n             max_cat_threshold=None, max_cat_to_onehot=None,\n             max_delta_step=None, max_depth=None, max_leaves=None,\n             min_child_weight=None, missing=nan, monotone_constraints=None,\n             n_estimators=100, n_jobs=None, num_parallel_tree=None,\n             predictor=None, random_state=None, ...)</pre><b>In a Jupyter environment, please rerun this cell to show the HTML representation or trust the notebook. <br />On GitHub, the HTML representation is unable to render, please try loading this page with nbviewer.org.</b></div><div class=\"sk-container\" hidden><div class=\"sk-item\"><div class=\"sk-estimator sk-toggleable\"><input class=\"sk-toggleable__control sk-hidden--visually\" id=\"sk-estimator-id-4\" type=\"checkbox\" checked><label for=\"sk-estimator-id-4\" class=\"sk-toggleable__label sk-toggleable__label-arrow\">XGBRegressor</label><div class=\"sk-toggleable__content\"><pre>XGBRegressor(base_score=None, booster=None, callbacks=None,\n             colsample_bylevel=None, colsample_bynode=None,\n             colsample_bytree=None, early_stopping_rounds=None,\n             enable_categorical=False, eval_metric=None, feature_types=None,\n             gamma=None, gpu_id=None, grow_policy=None, importance_type=None,\n             interaction_constraints=None, learning_rate=None, max_bin=None,\n             max_cat_threshold=None, max_cat_to_onehot=None,\n             max_delta_step=None, max_depth=None, max_leaves=None,\n             min_child_weight=None, missing=nan, monotone_constraints=None,\n             n_estimators=100, n_jobs=None, num_parallel_tree=None,\n             predictor=None, random_state=None, ...)</pre></div></div></div></div></div>"
     },
     "execution_count": 18,
     "metadata": {},
     "output_type": "execute_result"
    }
   ],
   "source": [
    "model_L = xgboost.XGBRegressor()\n",
    "model_L.fit(X_feature, Y_label['left'])\n",
    "\n",
    "model_R = xgboost.XGBRegressor()\n",
    "model_R.fit(X_feature, Y_label['right'])"
   ],
   "metadata": {
    "collapsed": false
   }
  },
  {
   "cell_type": "code",
   "execution_count": 19,
   "outputs": [],
   "source": [
    "model_L.save_model('./xgb_model/outline_left_v0.4.model')\n",
    "model_R.save_model('./xgb_model/outline_right_v0.4.model')"
   ],
   "metadata": {
    "collapsed": false
   }
  },
  {
   "cell_type": "code",
   "execution_count": null,
   "outputs": [],
   "source": [],
   "metadata": {
    "collapsed": false
   }
  }
 ],
 "metadata": {
  "kernelspec": {
   "display_name": "Python 3",
   "language": "python",
   "name": "python3"
  },
  "language_info": {
   "codemirror_mode": {
    "name": "ipython",
    "version": 2
   },
   "file_extension": ".py",
   "mimetype": "text/x-python",
   "name": "python",
   "nbconvert_exporter": "python",
   "pygments_lexer": "ipython2",
   "version": "2.7.6"
  }
 },
 "nbformat": 4,
 "nbformat_minor": 0
}
